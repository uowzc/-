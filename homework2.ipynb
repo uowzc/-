{
 "cells": [
  {
   "cell_type": "code",
   "execution_count": 2,
   "metadata": {},
   "outputs": [],
   "source": [
    "import numpy as np"
   ]
  },
  {
   "cell_type": "code",
   "execution_count": 96,
   "metadata": {},
   "outputs": [
    {
     "name": "stdout",
     "output_type": "stream",
     "text": [
      "the weights are:\n",
      "[[ 1.02521243]\n",
      " [-0.08739378]\n",
      " [-0.17478757]]\n"
     ]
    }
   ],
   "source": [
    "num_iters = 5000\n",
    "X = np.array([[0,0,1,1],[0,1,0,1],[1,1,1,1]])\n",
    "y = np.array([[0,0,1,1]])\n",
    "learning_rate = 0.6\n",
    "weight = np.array([[0,0,0]])\n",
    "def sigmod(x):\n",
    "    return 1/(1+np.exp(-x))\n",
    "\n",
    "def propagate(X,weight,y):\n",
    "    z = np.dot(X,weight)\n",
    "    a = sigmod(z)\n",
    "    dw =np.dot(X.T,(a.T-y).T)\n",
    "    return dw\n",
    "\n",
    "def optimize(weight,X,y,num_iters,learning_rate):\n",
    "    X = X.T\n",
    "    weight = weight.T\n",
    "    for i in range(2):\n",
    "        dw= propagate(X,weight,y)      \n",
    "        weight = weight - learning_rate * dw\n",
    "    return weight\n",
    "\n",
    "def training(weight,X,y,num_iters,learning_rate):\n",
    "    w = optimize(weight,X,y,num_iters,learning_rate)\n",
    "    print('the weights are:')\n",
    "    print(w)\n",
    "    \n",
    "training(weight,X,y,num_iters,learning_rate)"
   ]
  },
  {
   "cell_type": "code",
   "execution_count": null,
   "metadata": {},
   "outputs": [],
   "source": []
  }
 ],
 "metadata": {
  "kernelspec": {
   "display_name": "Python 3",
   "language": "python",
   "name": "python3"
  },
  "language_info": {
   "codemirror_mode": {
    "name": "ipython",
    "version": 3
   },
   "file_extension": ".py",
   "mimetype": "text/x-python",
   "name": "python",
   "nbconvert_exporter": "python",
   "pygments_lexer": "ipython3",
   "version": "3.6.8"
  }
 },
 "nbformat": 4,
 "nbformat_minor": 2
}
